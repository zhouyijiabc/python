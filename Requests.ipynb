{
 "cells": [
  {
   "cell_type": "code",
   "execution_count": 1,
   "metadata": {},
   "outputs": [
    {
     "name": "stdout",
     "output_type": "stream",
     "text": [
      "200\n",
      "<RequestsCookieJar[<Cookie BDORZ=27315 for .baidu.com/>]>\n"
     ]
    }
   ],
   "source": [
    "import requests\n",
    "response = requests.get('http://www.baidu.com')\n",
    "# print(response.text)\n",
    "print(response.status_code)\n",
    "print(response.cookies)"
   ]
  },
  {
   "cell_type": "markdown",
   "metadata": {},
   "source": [
    "## 各种请求方式"
   ]
  },
  {
   "cell_type": "code",
   "execution_count": null,
   "metadata": {
    "collapsed": true
   },
   "outputs": [],
   "source": [
    "import requests\n",
    "requests.post('http://httpbin.org/post')\n",
    "requests.put('http://httpbin.org/put')\n",
    "requests.delete('http://httpbin.org/delete')\n",
    "requests.head('http://httpbin.org/get')\n",
    "requests.options('http://httpbin.org/get')"
   ]
  },
  {
   "cell_type": "code",
   "execution_count": 5,
   "metadata": {},
   "outputs": [
    {
     "name": "stdout",
     "output_type": "stream",
     "text": [
      "{\n",
      "  \"args\": {}, \n",
      "  \"headers\": {\n",
      "    \"Accept\": \"*/*\", \n",
      "    \"Accept-Encoding\": \"gzip, deflate\", \n",
      "    \"Connection\": \"close\", \n",
      "    \"Host\": \"httpbin.org\", \n",
      "    \"User-Agent\": \"python-requests/2.18.3\"\n",
      "  }, \n",
      "  \"origin\": \"120.239.184.192\", \n",
      "  \"url\": \"http://httpbin.org/get\"\n",
      "}\n",
      "\n"
     ]
    }
   ],
   "source": [
    "import requests\n",
    "response = requests.get('http://httpbin.org/get')\n",
    "print(response.text)"
   ]
  },
  {
   "cell_type": "markdown",
   "metadata": {},
   "source": [
    "## 带参数的get请求"
   ]
  },
  {
   "cell_type": "code",
   "execution_count": 9,
   "metadata": {},
   "outputs": [
    {
     "name": "stdout",
     "output_type": "stream",
     "text": [
      "{\n",
      "  \"args\": {\n",
      "    \"age\": \"32\", \n",
      "    \"name\": \"zhouyijia\"\n",
      "  }, \n",
      "  \"headers\": {\n",
      "    \"Accept\": \"*/*\", \n",
      "    \"Accept-Encoding\": \"gzip, deflate\", \n",
      "    \"Connection\": \"close\", \n",
      "    \"Host\": \"httpbin.org\", \n",
      "    \"User-Agent\": \"python-requests/2.18.4\"\n",
      "  }, \n",
      "  \"origin\": \"97.64.82.18\", \n",
      "  \"url\": \"http://httpbin.org/get?age=32&name=zhouyijia\"\n",
      "}\n",
      "\n"
     ]
    }
   ],
   "source": [
    "import requests\n",
    "data = {\n",
    "    'name':'zhouyijia',\n",
    "    'age':32\n",
    "}\n",
    "response = requests.get('http://httpbin.org/get',params = data)\n",
    "print(response.text)"
   ]
  },
  {
   "cell_type": "markdown",
   "metadata": {},
   "source": [
    "## 解析json"
   ]
  },
  {
   "cell_type": "code",
   "execution_count": 2,
   "metadata": {},
   "outputs": [
    {
     "name": "stdout",
     "output_type": "stream",
     "text": [
      "{'args': {'q': 'dada'}, 'origin': '97.64.82.18', 'headers': {'Accept': '*/*', 'Host': 'httpbin.org', 'Connection': 'close', 'Accept-Encoding': 'gzip, deflate', 'User-Agent': 'python-requests/2.18.4'}, 'url': 'http://httpbin.org/get?q=dada'}\n",
      "<class 'dict'>\n",
      "<class 'str'>\n",
      "{'args': {'q': 'dada'}, 'origin': '97.64.82.18', 'headers': {'Accept': '*/*', 'Host': 'httpbin.org', 'Connection': 'close', 'Accept-Encoding': 'gzip, deflate', 'User-Agent': 'python-requests/2.18.4'}, 'url': 'http://httpbin.org/get?q=dada'}\n",
      "<class 'dict'>\n"
     ]
    }
   ],
   "source": [
    "import requests\n",
    "import json\n",
    "date = {\n",
    "    'q':'dada'\n",
    "}\n",
    "response = requests.get('http://httpbin.org/get',params = date)\n",
    "# print(response.text)\n",
    "print(response.json())\n",
    "print(type(response.json()))\n",
    "print(type(response.text))\n",
    "print(json.loads(response.text))\n",
    "print(type(json.loads(response.text)))"
   ]
  },
  {
   "cell_type": "markdown",
   "metadata": {},
   "source": [
    "## 获取二进制数据"
   ]
  },
  {
   "cell_type": "code",
   "execution_count": 4,
   "metadata": {},
   "outputs": [
    {
     "name": "stdout",
     "output_type": "stream",
     "text": [
      "<class 'str'> <class 'bytes'>\n"
     ]
    }
   ],
   "source": [
    "import requests\n",
    "response = requests.get('https://ss0.baidu.com/6ONWsjip0QIZ8tyhnq/it/u=4256706033,4037801273&fm=173&s=3182D8114C077D4718990C6E03007078&w=218&h=146&img.JPEG')\n",
    "with open('tt.jpeg','wb') as f:\n",
    "    f.write(response.content)\n",
    "    f.close()\n",
    "print(type(response.text),type(response.content))\n",
    "# print(response.text)\n",
    "# print(response.content)"
   ]
  },
  {
   "cell_type": "markdown",
   "metadata": {},
   "source": [
    "## 添加headers和post请求"
   ]
  },
  {
   "cell_type": "code",
   "execution_count": 5,
   "metadata": {},
   "outputs": [
    {
     "name": "stdout",
     "output_type": "stream",
     "text": [
      "{'url': 'http://httpbin.org/post', 'origin': '97.64.82.18', 'data': '', 'form': {'age': '32', 'name': 'zhouyijia'}, 'args': {}, 'files': {}, 'headers': {'Content-Type': 'application/x-www-form-urlencoded', 'Connection': 'close', 'Accept-Encoding': 'gzip, deflate', 'User-Agent': 'Mozilla/5.0 (Windows NT 10.0; Win64; x64) AppleWebKit/537.36 (KHTML, like Gecko) Chrome/55.0.2883.87 Safari/537.36', 'Accept': '*/*', 'Host': 'httpbin.org', 'Content-Length': '21'}, 'json': None}\n"
     ]
    }
   ],
   "source": [
    "import requests\n",
    "headers = {\n",
    "    'User-Agent':'Mozilla/5.0 (Windows NT 10.0; Win64; x64) AppleWebKit/537.36 (KHTML, like Gecko) Chrome/55.0.2883.87 Safari/537.36'\n",
    "}\n",
    "date = {\n",
    "    'name':'zhouyijia',\n",
    "    'age':'32'\n",
    "}\n",
    "response = requests.post('http://httpbin.org/post',data = date, headers = headers)\n",
    "print(response.json())\n",
    "# print(response.text)"
   ]
  },
  {
   "cell_type": "markdown",
   "metadata": {},
   "source": [
    "## 响应 response属性"
   ]
  },
  {
   "cell_type": "code",
   "execution_count": 1,
   "metadata": {},
   "outputs": [
    {
     "name": "stdout",
     "output_type": "stream",
     "text": [
      "<class 'int'> 200\n",
      "<class 'requests.structures.CaseInsensitiveDict'> {'X-Content-Type-Options': 'nosniff', 'Set-Cookie': '_maleskine_session=T0VVcjdoNG9mTEZZa2xObVBEaXZUL3FBR0l2TU5XODlqa0VrZnZ5ODJRV1RUTXJmdmhyMThYNFJyZmVhTXhxQTBZTHBwN2FPOHpITkdjU1g4K1NwN1pla241TXh4anNjYkhhb1pjZmtsVko0ZVlnUTMxR3FwcmhuS2dFcklzalAwNUxwamdWbGRLRzRhSURWZFhuREVkYkQ1Y1VpcjltdDBLU1VxZlh4SjlGamxLeGdtZEZzUjNqSVRkZ1F0MnJ1Vkg3SkY1ZTFVWXdvejBBRmZCYTBkZHQzc1hSY1BBcFFJNUlOYjM5Y2VYWTQxY0c3SHh4dlo1SWpsYkVVOFc1Ni0tK0FaRVlVV1lZZkZIbFhhRjVFUG5Jdz09--8df7abbb26a98042abc470a7a0ad03258ef5ac48; path=/; HttpOnly', 'Content-Encoding': 'gzip', 'Connection': 'keep-alive', 'X-Request-Id': '56330945-efb4-4367-9709-82f629788e31', 'Date': 'Sun, 10 Sep 2017 03:06:40 GMT', 'X-XSS-Protection': '1; mode=block', 'Server': 'Tengine', 'Transfer-Encoding': 'chunked', 'ETag': 'W/\"09e76fccb9a98b71667294088a571801\"', 'X-Via': '1.1 menyidong10:9 (Cdn Cache Server V2.0)', 'X-Frame-Options': 'DENY', 'Content-Type': 'text/html; charset=utf-8', 'X-Runtime': '0.007195', 'Cache-Control': 'max-age=0, private, must-revalidate'}\n",
      "<class 'requests.cookies.RequestsCookieJar'> <RequestsCookieJar[<Cookie _maleskine_session=T0VVcjdoNG9mTEZZa2xObVBEaXZUL3FBR0l2TU5XODlqa0VrZnZ5ODJRV1RUTXJmdmhyMThYNFJyZmVhTXhxQTBZTHBwN2FPOHpITkdjU1g4K1NwN1pla241TXh4anNjYkhhb1pjZmtsVko0ZVlnUTMxR3FwcmhuS2dFcklzalAwNUxwamdWbGRLRzRhSURWZFhuREVkYkQ1Y1VpcjltdDBLU1VxZlh4SjlGamxLeGdtZEZzUjNqSVRkZ1F0MnJ1Vkg3SkY1ZTFVWXdvejBBRmZCYTBkZHQzc1hSY1BBcFFJNUlOYjM5Y2VYWTQxY0c3SHh4dlo1SWpsYkVVOFc1Ni0tK0FaRVlVV1lZZkZIbFhhRjVFUG5Jdz09--8df7abbb26a98042abc470a7a0ad03258ef5ac48 for www.jianshu.com/>]>\n",
      "<class 'str'> http://www.jianshu.com/\n",
      "<class 'list'> [<Response [301]>]\n"
     ]
    }
   ],
   "source": [
    "import requests\n",
    "response = requests.get('http://jianshu.com')\n",
    "print(type(response.status_code),response.status_code)\n",
    "print(type(response.headers),response.headers)\n",
    "print(type(response.cookies),response.cookies)\n",
    "print(type(response.url),response.url)\n",
    "print(type(response.history),response.history)"
   ]
  },
  {
   "cell_type": "markdown",
   "metadata": {},
   "source": [
    "## 状态码判断\n",
    "### HTTP状态码列表:\n",
    "- 100 Continue 继续。客户端应继续其请求\n",
    "- 101 Switching Protocols 切换协议。服务器根据客户端的请求切换协议。只能切换到更高级的协议，例如，切换到HTTP的新-版本协议\n",
    "- 200 OK 请求成功。一般用于GET与POST请求\n",
    "- 201 Created 已创建。成功请求并创建了新的资源\n",
    "- 202 Accepted 已接受。已经接受请求，但未处理完成\n",
    "- 203 Non-Authoritative Information 非授权信息。请求成功。但返回的meta信息不在原始的服务器，而是一个副本\n",
    "- 204 No Content 无内容。服务器成功处理，但未返回内容。在未更新网页的情况下，可确保浏览器继续显示当前文档\n",
    "- 205 Reset Content 重置内容。服务器处理成功，用户终端（例如：浏览器）应重置文档视图。可通过此返回码清除浏览器的表单域\n",
    "- 206 Partial Content 部分内容。服务器成功处理了部分GET请求\n",
    "- 300 Multiple Choices 多种选择。请求的资源可包括多个位置，相应可返回一个资源特征与地址的列表用于用户终端（例如：浏览器）选择\n",
    "- 301 Moved Permanently 永久移动。请求的资源已被永久的移动到新URI，返回信息会包括新的URI，浏览器会自动定向到新URI。今后任何新的请求都应使用新的URI代替\n",
    "- 302 Found 临时移动。与301类似。但资源只是临时被移动。客户端应继续使用原有URI\n",
    "-  303 See Other 查看其它地址。与301类似。使用GET和POST请求查看\n",
    "- 304 Not Modified 未修改。所请求的资源未修改，服务器返回此状态码时，不会返回任何资源。客户端通常会缓存访问过的资源，通过提供一个头信息指出客户端希望只返回在指定日期之后修改的资源\n",
    "- 305 Use Proxy 使用代理。所请求的资源必须通过代理访问\n",
    "- 306 Unused 已经被废弃的HTTP状态码\n",
    "- 307 Temporary Redirect 临时重定向。与302类似。使用GET请求重定向\n",
    "- 400 Bad Request 客户端请求的语法错误，服务器无法理解\n",
    "- 401 Unauthorized 请求要求用户的身份认证\n",
    "- 402 Payment Required 保留，将来使用\n",
    "- 403 Forbidden 服务器理解请求客户端的请求，但是拒绝执行此请求\n",
    "- 404 Not Found 服务器无法根据客户端的请求找到资源（网页）。通过此代码，网站设计人员可设置\"您所请求的资源无法找到\"的个性页面\n",
    "- 405 Method Not Allowed 客户端请求中的方法被禁止\n",
    "- 406 Not Acceptable 服务器无法根据客户端请求的内容特性完成请求\n",
    "- 407 Proxy Authentication Required 请求要求代理的身份认证，与401类似，但请求者应当使用代理进行授权\n",
    "- 408 Request Time-out 服务器等待客户端发送的请求时间过长，超时\n",
    "- 409 Conflict 服务器完成客户端的PUT请求是可能返回此代码，服务器处理请求时发生了冲突\n",
    "- 410 Gone 客户端请求的资源已经不存在。410不同于404，如果资源以前有现在被永久删除了可使用410代码，网站设计人员可通过301代码指定资源的新位置\n",
    "- 411 Length Required 服务器无法处理客户端发送的不带Content-Length的请求信息\n",
    "- 412 Precondition Failed 客户端请求信息的先决条件错误\n",
    "- 413 Request Entity Too Large 由于请求的实体过大，服务器无法处理，因此拒绝请求。为防止客户端的连续请求，服务器可能会关闭连接。如果只是服务器暂时无法处理，则会包含一个Retry-After的响应信息\n",
    "- 414 Request-URI Too Large 请求的URI过长（URI通常为网址），服务器无法处理\n",
    "- 415 Unsupported Media Type 服务器无法处理请求附带的媒体格式\n",
    "- 416 Requested range not satisfiable 客户端请求的范围无效\n",
    "- 417 Expectation Failed 服务器无法满足Expect的请求头信息\n",
    "- 500 Internal Server Error 服务器内部错误，无法完成请求\n",
    "- 501 Not Implemented 服务器不支持请求的功能，无法完成请求\n",
    "- 502 Bad Gateway 充当网关或代理的服务器，从远端服务器接收到了一个无效的请求\n",
    "- 503 Service Unavailable 由于超载或系统维护，服务器暂时的无法处理客户端的请求。延时的长度可包含在服务器的Retry-After头信息中\n",
    "- 504 Gateway Time-out 充当网关或代理的服务器，未及时从远端服务器获取请求\n",
    "- 505 HTTP Version not supported 服务器不支持请求的HTTP协议的版本，无法完成处理\n",
    "\n"
   ]
  },
  {
   "cell_type": "code",
   "execution_count": 5,
   "metadata": {},
   "outputs": [
    {
     "name": "stdout",
     "output_type": "stream",
     "text": [
      "404\n",
      "404 not found\n"
     ]
    }
   ],
   "source": [
    "import requests\n",
    "rsp = requests.get('http://www.jianshu.com/hello.html')\n",
    "#exit()if not rsp.status_code == 200 else print('request bad')\n",
    "print(rsp.status_code)\n",
    "exit()if not rsp.status_code == requests.codes.not_found else print('404 not found')"
   ]
  },
  {
   "cell_type": "markdown",
   "metadata": {},
   "source": [
    "## 高级操作\n",
    "\n",
    "- 文件上传\n",
    "-  获取cookie\n",
    "- 会话维持\n"
   ]
  },
  {
   "cell_type": "code",
   "execution_count": 6,
   "metadata": {},
   "outputs": [],
   "source": [
    "import requests as r\n",
    "files = {'file':open('tt.jpeg','rb')}\n",
    "rsp = r.post('http://httpbin.org/post',files = files)\n",
    "# print(rsp.text)"
   ]
  },
  {
   "cell_type": "markdown",
   "metadata": {},
   "source": [
    "## 获取cookies"
   ]
  },
  {
   "cell_type": "code",
   "execution_count": 8,
   "metadata": {},
   "outputs": [
    {
     "name": "stdout",
     "output_type": "stream",
     "text": [
      "<RequestsCookieJar[<Cookie BDORZ=27315 for .baidu.com/>]>\n",
      "BDORZ=27315\n"
     ]
    }
   ],
   "source": [
    "import requests as r\n",
    "rsp = r.get('https://www.baidu.com')\n",
    "print(rsp.cookies)\n",
    "for key,value in rsp.cookies.items():\n",
    "    print(key + '='+ value)"
   ]
  },
  {
   "cell_type": "markdown",
   "metadata": {},
   "source": [
    "## 会话维持"
   ]
  },
  {
   "cell_type": "code",
   "execution_count": 9,
   "metadata": {},
   "outputs": [
    {
     "name": "stdout",
     "output_type": "stream",
     "text": [
      "{\n",
      "  \"cookies\": {\n",
      "    \"name\": \"bububu\"\n",
      "  }\n",
      "}\n",
      "\n"
     ]
    }
   ],
   "source": [
    "import requests as r\n",
    "s = r.Session()\n",
    "rsp = s.get('http://httpbin.org/cookies/set/name/bububu')\n",
    "print(rsp.text)"
   ]
  },
  {
   "cell_type": "markdown",
   "metadata": {},
   "source": [
    "## 代理设置 超时设置"
   ]
  },
  {
   "cell_type": "code",
   "execution_count": 29,
   "metadata": {},
   "outputs": [
    {
     "name": "stdout",
     "output_type": "stream",
     "text": [
      "超时啦\n"
     ]
    }
   ],
   "source": [
    "import requests as r\n",
    "from requests.exceptions import ReadTimeout\n",
    "headers = { 'User-Agent':'Mozilla/5.0 (Windows NT 10.0; Win64; x64) AppleWebKit/537.36 (KHTML, like Gecko) Chrome/55.0.2883.87 Safari/537.36'}\n",
    "\n",
    "try:\n",
    "\n",
    "    proxies = {\n",
    "        'http':'http://127.0.0.1:8087'\n",
    "    }\n",
    "    rsp = r.get('http://www.taobao.com',proxies=proxies,headers=headers,timeout=10)\n",
    "    print(rsp.status_code)\n",
    "except ReadTimeout:\n",
    "    print('超时啦')"
   ]
  },
  {
   "cell_type": "markdown",
   "metadata": {},
   "source": [
    "## 异常处理"
   ]
  },
  {
   "cell_type": "code",
   "execution_count": 33,
   "metadata": {},
   "outputs": [
    {
     "name": "stdout",
     "output_type": "stream",
     "text": [
      "ConnectionError\n"
     ]
    }
   ],
   "source": [
    "import requests as r\n",
    "from requests.exceptions import ReadTimeout,ConnectionError,RequestException\n",
    "try:\n",
    "    rsp = r.get('http://httpbin.org/get',timeout=0.1)\n",
    "    print(rsp.status_code)\n",
    "except ReadTimeout:\n",
    "    print('Timeout')\n",
    "except ConnectionError:\n",
    "    print('ConnectionError')\n",
    "except RequestException:\n",
    "    print('RequestException')\n",
    "    "
   ]
  }
 ],
 "metadata": {
  "kernelspec": {
   "display_name": "Python 3",
   "language": "python",
   "name": "python3"
  },
  "language_info": {
   "codemirror_mode": {
    "name": "ipython",
    "version": 3
   },
   "file_extension": ".py",
   "mimetype": "text/x-python",
   "name": "python",
   "nbconvert_exporter": "python",
   "pygments_lexer": "ipython3",
   "version": "3.5.2"
  }
 },
 "nbformat": 4,
 "nbformat_minor": 2
}
